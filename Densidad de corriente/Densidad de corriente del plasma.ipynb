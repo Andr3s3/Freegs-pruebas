{
 "cells": [
  {
   "cell_type": "markdown",
   "id": "3932f098-e85f-4a07-a28e-e64e6b36a0d4",
   "metadata": {},
   "source": [
    "# 1.- Prueba con una función lineal simple"
   ]
  },
  {
   "cell_type": "code",
   "execution_count": 15,
   "id": "d339a931-1340-4f58-a62d-baf0f9a75f02",
   "metadata": {},
   "outputs": [
    {
     "data": {
      "application/vnd.jupyter.widget-view+json": {
       "model_id": "5bf090cfda6a47e98e4174a918624b86",
       "version_major": 2,
       "version_minor": 0
      },
      "text/plain": [
       "interactive(children=(FloatSlider(value=2.0, description='$\\\\alpha_m$', max=10.0, step=1.0), FloatSlider(value…"
      ]
     },
     "metadata": {},
     "output_type": "display_data"
    },
    {
     "data": {
      "text/plain": [
       "<function __main__.plot_J_phi_pl(alpha_m, beta_0, lambda_, R, R_geo)>"
      ]
     },
     "execution_count": 15,
     "metadata": {},
     "output_type": "execute_result"
    }
   ],
   "source": [
    "import numpy as np\n",
    "import matplotlib.pyplot as plt\n",
    "from ipywidgets import interact, FloatSlider\n",
    "\n",
    "# Configuración de matplotlib para utilizar LaTeX\n",
    "plt.rcParams['text.usetex'] = True\n",
    "plt.rcParams['text.latex.preamble'] = r'\\usepackage{amsmath}'\n",
    "\n",
    "# Función para calcular J_phi,pl y graficar\n",
    "def plot_J_phi_pl(alpha_m, beta_0, lambda_, R, R_geo):\n",
    "    m = 1 # Pendiente de la función lineal para psi_N1\n",
    "    b = 0  # Intersección de la función lineal para psi_N\n",
    "    \n",
    "    psi = np.linspace(0, 50, 100)\n",
    "    psi_N = m * psi + b\n",
    "    J_phi_pl = lambda_ * (1 - psi_N)**alpha_m * (beta_0 * (R / R_geo) + (1 - beta_0) * (R_geo / R))\n",
    "    \n",
    "    plt.figure(figsize=(5,5))\n",
    "    plt.plot(psi, J_phi_pl, label=r'$J_{\\phi,pl}$', color='b', linewidth=2)\n",
    "    plt.xlabel(r'$\\psi (\\frac{T}{m^2})$', fontsize=14)\n",
    "    plt.ylabel(r'$J_{\\phi,pl} (\\frac{A}{m^2})$', fontsize=14)\n",
    "    plt.title(r'$J_{\\phi,pl} $ en función de $\\psi$', fontsize=16)\n",
    "    plt.legend()\n",
    "    plt.grid(True)\n",
    "    plt.show()\n",
    "\n",
    "# Controles deslizantes para alpha_m, beta_0, lambda_, R y R_geo\n",
    "alpha_slider = FloatSlider(min=0, max=10, step=1, value=2, description=r'$\\alpha_m$')\n",
    "beta_slider = FloatSlider(min=0, max=1, step=0.01, value=0.3, description=r'$\\beta_0$')\n",
    "lambda_slider = FloatSlider(min=0, max=1, step=0.01, value=0.5, description=r'$\\lambda$')\n",
    "R_slider = FloatSlider(min=0.1, max=30, step=0.1, value=10, description=r'$R$')\n",
    "R_geo_slider = FloatSlider(min=0.1, max=50, step=0.1, value=20, description=r'$R_{geo}$')\n",
    "\n",
    "# Usamos interact para crear la gráfica interactiva\n",
    "interact(plot_J_phi_pl, alpha_m=alpha_slider, beta_0=beta_slider, lambda_=lambda_slider, R=R_slider, R_geo=R_geo_slider)\n"
   ]
  },
  {
   "cell_type": "markdown",
   "id": "d8144591-b956-4b00-973e-9e26f9c9ef66",
   "metadata": {},
   "source": [
    "# 2.-Prueba comparando distintos paramentros para una función lineal simple"
   ]
  },
  {
   "cell_type": "code",
   "execution_count": 2,
   "id": "f2d329df-d540-4b9a-89bd-78d919f9a396",
   "metadata": {},
   "outputs": [
    {
     "data": {
      "application/vnd.jupyter.widget-view+json": {
       "model_id": "0075b101978d4588a2dfb674a475bf73",
       "version_major": 2,
       "version_minor": 0
      },
      "text/plain": [
       "interactive(children=(FloatSlider(value=2.0, description='$\\\\alpha_m$ Gráfica 1', max=10.0, step=1.0), FloatSl…"
      ]
     },
     "metadata": {},
     "output_type": "display_data"
    },
    {
     "data": {
      "text/plain": [
       "<function __main__.plot_J_phi_pl(alpha_m1, beta_0_1, lambda_1, R1, R_geo1, alpha_m2, beta_0_2, lambda_2, R2, R_geo2)>"
      ]
     },
     "execution_count": 2,
     "metadata": {},
     "output_type": "execute_result"
    }
   ],
   "source": [
    "import numpy as np\n",
    "import matplotlib.pyplot as plt\n",
    "from ipywidgets import interact, FloatSlider, HBox, VBox\n",
    "\n",
    "# Configuración de matplotlib para utilizar LaTeX\n",
    "plt.rcParams['text.usetex'] = True\n",
    "plt.rcParams['text.latex.preamble'] = r'\\usepackage{amsmath}'\n",
    "\n",
    "# Función para calcular J_phi,pl y graficar\n",
    "def plot_J_phi_pl(alpha_m1, beta_0_1, lambda_1, R1, R_geo1, alpha_m2, beta_0_2, lambda_2, R2, R_geo2):\n",
    "    m = 1  # Pendiente de la función lineal para psi_N\n",
    "    b = 0  # Intersección de la función lineal para psi_N\n",
    "\n",
    "    # Primer conjunto de datos\n",
    "    psi = np.linspace(0, 100, 100)\n",
    "    psi_N1 = m * psi + b\n",
    "    J_phi_pl_1 = lambda_1 * (1 - psi_N1)**alpha_m1 * (beta_0_1 * (R1 / R_geo1) + (1 - beta_0_1) * (R_geo1 / R1))\n",
    "    \n",
    "    # Segundo conjunto de datos\n",
    "    psi_N2 = m * psi + b\n",
    "    J_phi_pl_2 = lambda_2 * (1 - psi_N2)**alpha_m2 * (beta_0_2 * (R2 / R_geo2) + (1 - beta_0_2) * (R_geo2 / R2))\n",
    "    \n",
    "    # Crear la figura con dos subgráficas\n",
    "    fig, axs = plt.subplots(1, 2, figsize=(20, 6))\n",
    "\n",
    "    # Gráfica 1\n",
    "    axs[0].plot(psi, J_phi_pl_1, label=r'$J_{\\phi,pl}$', color='b', linewidth=2)\n",
    "    axs[0].set_xlabel(r'$\\psi(\\frac{T}{m^2})$', fontsize=14)\n",
    "    axs[0].set_ylabel(r'$J_{\\phi,pl}$', fontsize=14)\n",
    "    axs[0].set_title(r'$J_{\\phi,pl}$ en función de $\\psi$ (Gráfica 1)', fontsize=16)\n",
    "    axs[0].legend()\n",
    "    axs[0].grid(True)\n",
    "\n",
    "    # Gráfica 2\n",
    "    axs[1].plot(psi, J_phi_pl_2, label=r'$J_{\\phi,pl}$', color='b', linewidth=2)\n",
    "    axs[1].set_xlabel(r'$\\psi(\\frac{T}{m^2})$', fontsize=14)\n",
    "    axs[1].set_ylabel(r'$J_{\\phi,pl} (\\frac{A}{m^2})$', fontsize=14)\n",
    "    axs[1].set_title(r'$J_{\\phi,pl}$ en función de $\\psi$ (Gráfica 2)', fontsize=16)\n",
    "    axs[1].legend()\n",
    "    axs[1].grid(True)\n",
    "\n",
    "    plt.tight_layout()\n",
    "    plt.show()\n",
    "\n",
    "# Controles deslizantes para la primera gráfica\n",
    "alpha_slider_1 = FloatSlider(min=0, max=10, step=1, value=2, description=r'$\\alpha_m$ Gráfica 1')\n",
    "beta_slider_1 = FloatSlider(min=0, max=1, step=0.01, value=0.3, description=r'$\\beta_0$ Gráfica 1')\n",
    "lambda_slider_1 = FloatSlider(min=0.1, max=1, step=0.01, value=0.5, description=r'$\\lambda$ Gráfica 1')\n",
    "R_slider_1 = FloatSlider(min=0.1, max=50, step=0.1, value=10, description=r'$R$ Gráfica 1')\n",
    "R_geo_slider_1 = FloatSlider(min=0.1, max=50, step=0.1, value=20, description=r'$R_{geo}$ Gráfica 1')\n",
    "\n",
    "# Controles deslizantes para la segunda gráfica\n",
    "alpha_slider_2 = FloatSlider(min=0, max=10, step=1, value=2, description=r'$\\alpha_m$ Gráfica 2')\n",
    "beta_slider_2 = FloatSlider(min=0, max=50, step=0.01, value=0.3, description=r'$\\beta_0$ Gráfica 2')\n",
    "lambda_slider_2 = FloatSlider(min=0.1, max=50, step=0.01, value=0.5, description=r'$\\lambda$ Gráfica 2')\n",
    "R_slider_2 = FloatSlider(min=0.1, max=50, step=0.1, value=20, description=r'$R$ Gráfica 2')\n",
    "R_geo_slider_2 = FloatSlider(min=0.1, max=50, step=0.1, value=10, description=r'$R_{geo}$ Gráfica 2')\n",
    "\n",
    "# Usamos interact para crear las gráficas interactivas\n",
    "interact(plot_J_phi_pl, \n",
    "         alpha_m1=alpha_slider_1, beta_0_1=beta_slider_1, lambda_1=lambda_slider_1, R1=R_slider_1, R_geo1=R_geo_slider_1,\n",
    "         alpha_m2=alpha_slider_2, beta_0_2=beta_slider_2, lambda_2=lambda_slider_2, R2=R_slider_2, R_geo2=R_geo_slider_2)\n"
   ]
  },
  {
   "cell_type": "markdown",
   "id": "6c95f56b-3d49-4354-8741-221a41f5aed7",
   "metadata": {},
   "source": [
    "# 3.-Prueba con una función exponencial simple Artículo Luxon 1982"
   ]
  },
  {
   "cell_type": "code",
   "execution_count": 3,
   "id": "669db3b5-f940-433e-b372-97d17abb2f3d",
   "metadata": {},
   "outputs": [
    {
     "data": {
      "application/vnd.jupyter.widget-view+json": {
       "model_id": "f853ebdeea4f43f686860f2422cd0d67",
       "version_major": 2,
       "version_minor": 0
      },
      "text/plain": [
       "interactive(children=(FloatSlider(value=2.0, description='$\\\\alpha_m$', max=10.0, step=1.0), FloatSlider(value…"
      ]
     },
     "metadata": {},
     "output_type": "display_data"
    },
    {
     "data": {
      "text/plain": [
       "<function __main__.plot_J_phi_pl(alpha_m, beta_0, lambda_, R, R_geo, k)>"
      ]
     },
     "execution_count": 3,
     "metadata": {},
     "output_type": "execute_result"
    }
   ],
   "source": [
    "import numpy as np\n",
    "import matplotlib.pyplot as plt\n",
    "from ipywidgets import interact, FloatSlider\n",
    "\n",
    "# Configuración de matplotlib para utilizar LaTeX\n",
    "plt.rcParams['text.usetex'] = True\n",
    "plt.rcParams['text.latex.preamble'] = r'\\usepackage{amsmath}'\n",
    "\n",
    "# Función para calcular J_phi,pl y graficar\n",
    "def plot_J_phi_pl(alpha_m, beta_0, lambda_, R, R_geo, k):\n",
    "    # Definición de psi_N como función exponencial\n",
    "    psi = np.linspace(0, 2, 100)\n",
    "    psi_N = np.exp(-(k * psi)**2)\n",
    "    \n",
    "    # Cálculo de J_phi,pl\n",
    "    J_phi_pl = lambda_ * (1 - psi_N)**alpha_m * (beta_0 * (R / R_geo) + (1 - beta_0) * (R_geo / R))\n",
    "    \n",
    "    # Gráfica\n",
    "    plt.figure(figsize=(10, 6))\n",
    "    plt.plot(psi, J_phi_pl, label=r'$J_{\\phi,pl}$', color='b', linewidth=2)\n",
    "    plt.xlabel(r'$\\psi(\\frac{T}{m^2})$', fontsize=14)\n",
    "    plt.ylabel(r'$J_{\\phi,pl} (\\frac{A}{m^2})$', fontsize=14)\n",
    "    plt.title(r'$J_{\\phi,pl}$ en función de $\\psi$', fontsize=16)\n",
    "    plt.legend()\n",
    "    plt.grid(True)\n",
    "    plt.show()\n",
    "\n",
    "# Controles deslizantes para alpha_m, beta_0, lambda_, R, R_geo y k\n",
    "alpha_slider = FloatSlider(min=0, max=10, step=1, value=2, description=r'$\\alpha_m$')\n",
    "beta_slider = FloatSlider(min=0, max=1, step=0.01, value=0.3, description=r'$\\beta_0$')\n",
    "lambda_slider = FloatSlider(min=0.1, max=1, step=0.01, value=0.5, description=r'$\\lambda$')\n",
    "R_slider = FloatSlider(min=0.1, max=50, step=0.1, value=20, description=r'$R$')\n",
    "R_geo_slider = FloatSlider(min=0.1, max=50, step=0.1, value=10, description=r'$R_{geo}$')\n",
    "k_slider = FloatSlider(min=1, max=10, step=1, value=1, description=r'$k$')\n",
    "\n",
    "# Usamos interact para crear la gráfica interactiva\n",
    "interact(plot_J_phi_pl, alpha_m=alpha_slider, beta_0=beta_slider, lambda_=lambda_slider, R=R_slider, R_geo=R_geo_slider, k=k_slider)\n"
   ]
  },
  {
   "cell_type": "markdown",
   "id": "6a4da38a-0283-4878-9aec-e3d666486369",
   "metadata": {},
   "source": [
    "# 4.-Prueba con una función lineal como indica el artículo de Young y consideraciónes de Freegs"
   ]
  },
  {
   "cell_type": "code",
   "execution_count": 1,
   "id": "b8877ba7-a42f-4bec-9d71-8b2cbe41f915",
   "metadata": {},
   "outputs": [
    {
     "data": {
      "application/vnd.jupyter.widget-view+json": {
       "model_id": "8a40bb190969470a8379a8f566a20c4b",
       "version_major": 2,
       "version_minor": 0
      },
      "text/plain": [
       "interactive(children=(FloatSlider(value=2.0, description='$\\\\alpha_m$', max=10.0, step=1.0), FloatSlider(value…"
      ]
     },
     "metadata": {},
     "output_type": "display_data"
    },
    {
     "data": {
      "text/plain": [
       "<function __main__.plot_J_phi_pl(alpha_m, alpha_n, beta_0, lambda_, R, R_geo)>"
      ]
     },
     "execution_count": 1,
     "metadata": {},
     "output_type": "execute_result"
    }
   ],
   "source": [
    "import numpy as np\n",
    "import matplotlib.pyplot as plt\n",
    "from ipywidgets import interact, FloatSlider\n",
    "\n",
    "# Configuración de matplotlib para utilizar LaTeX\n",
    "plt.rcParams['text.usetex'] = True\n",
    "plt.rcParams['text.latex.preamble'] = r'\\usepackage{amsmath}'\n",
    "\n",
    "# Función para calcular J_phi,pl y graficar\n",
    "def plot_J_phi_pl(alpha_m, alpha_n, beta_0, lambda_, R, R_geo):\n",
    "    # Definición de psi_a y psi_b\n",
    "    psi_a = 50\n",
    "    psi_b = 0\n",
    "    \n",
    "    # Definición de psi_N según el artículo (función lineal)\n",
    "    psi = np.linspace(0, 50, 100)\n",
    "    psi_N = (psi - psi_a) / (psi_b - psi_a)\n",
    "    \n",
    "    # Cálculo de J_phi,pl\n",
    "    J_phi_pl = lambda_ * (1 - psi_N**alpha_m)**alpha_n * (beta_0 * (R / R_geo) + (1 - beta_0) * (R_geo / R))\n",
    "    \n",
    "    # Gráfica\n",
    "    plt.figure(figsize=(10, 6))\n",
    "    plt.plot(psi, J_phi_pl, label=r'$J_{\\phi,pl}$', color='b', linewidth=2)\n",
    "    plt.xlabel(r'$\\psi(\\frac{T}{m^2})$', fontsize=14)\n",
    "    plt.ylabel(r'$J_{\\phi,pl} (\\frac{A}{m^2})$', fontsize=14)\n",
    "    plt.title(r'$J_{\\phi,pl}$ en función de $\\psi$', fontsize=16)\n",
    "    plt.legend()\n",
    "    plt.grid(True)\n",
    "    plt.show()\n",
    "\n",
    "# Controles deslizantes para alpha_m, alpha_n, beta_0, lambda_, R y R_geo\n",
    "alpha_slider = FloatSlider(min=0, max=10, step=1, value=2, description=r'$\\alpha_m$')\n",
    "alpha_n_slider = FloatSlider(min=0, max=10, step=1, value=1, description=r'$\\alpha_n$')\n",
    "beta_slider = FloatSlider(min=0, max=1, step=0.01, value=0.3, description=r'$\\beta_0$')\n",
    "lambda_slider = FloatSlider(min=-6000000, max=6000000, step=0.01, value=0.5, description=r'$\\lambda$')\n",
    "R_slider = FloatSlider(min=0.1, max=50, step=0.01, value=2, description=r'$R$')\n",
    "R_geo_slider = FloatSlider(min=0.1, max=50, step=0.01, value=1, description=r'$R_{geo}$')\n",
    "\n",
    "# Usamos interact para crear la gráfica interactiva\n",
    "interact(plot_J_phi_pl, alpha_m=alpha_slider, alpha_n=alpha_n_slider, beta_0=beta_slider, lambda_=lambda_slider, R=R_slider, R_geo=R_geo_slider)"
   ]
  },
  {
   "cell_type": "markdown",
   "id": "0b194739-863d-4eb8-97dd-f56d1a7f6e07",
   "metadata": {},
   "source": [
    "# 5.-Prueba usando una función del flujo normalizada exponencial Artículo Luxon1982"
   ]
  },
  {
   "cell_type": "code",
   "execution_count": 5,
   "id": "08653c14-7bd4-44a2-a8d8-6ca29385e135",
   "metadata": {},
   "outputs": [
    {
     "data": {
      "application/vnd.jupyter.widget-view+json": {
       "model_id": "053d364eb2eb40b0b4a95624d0cc54e5",
       "version_major": 2,
       "version_minor": 0
      },
      "text/plain": [
       "interactive(children=(FloatSlider(value=2.0, description='$\\\\alpha_m$', max=10.0, step=1.0), FloatSlider(value…"
      ]
     },
     "metadata": {},
     "output_type": "display_data"
    },
    {
     "data": {
      "text/plain": [
       "<function __main__.plot_J_phi_pl(alpha_m, alpha_n, beta_0, lambda_, R, R_geo, k)>"
      ]
     },
     "execution_count": 5,
     "metadata": {},
     "output_type": "execute_result"
    }
   ],
   "source": [
    "import numpy as np\n",
    "import matplotlib.pyplot as plt\n",
    "from ipywidgets import interact, FloatSlider\n",
    "\n",
    "# Configuración de matplotlib para utilizar LaTeX\n",
    "plt.rcParams['text.usetex'] = True\n",
    "plt.rcParams['text.latex.preamble'] = r'\\usepackage{amsmath}'\n",
    "\n",
    "# Función para calcular J_phi,pl y graficar\n",
    "def plot_J_phi_pl(alpha_m, alpha_n, beta_0, lambda_, R, R_geo, k):\n",
    "    # Definición de psi_a y psi_b\n",
    "    psi_a = 50\n",
    "    psi_b = 0\n",
    "    \n",
    "    # Definición de psi_N según el artículo (función lineal)\n",
    "    psi = np.linspace(0, 50, 100)\n",
    "    psi_N = np.exp(-(k*(psi - psi_a) / (psi_b - psi_a))**2)\n",
    "    \n",
    "    # Cálculo de J_phi,pl\n",
    "    J_phi_pl = lambda_ * (1 - psi_N**alpha_m)**alpha_n * (beta_0 * (R / R_geo) + (1 - beta_0) * (R_geo / R))\n",
    "    \n",
    "    # Gráfica\n",
    "    plt.figure(figsize=(10, 6))\n",
    "    plt.plot(psi, J_phi_pl, label=r'$J_{\\phi,pl}$', color='b', linewidth=2)\n",
    "    plt.xlabel(r'$\\psi(\\frac{T}{m^2})$', fontsize=14)\n",
    "    plt.ylabel(r'$J_{\\phi,pl} (\\frac{A}{m^2})$', fontsize=14)\n",
    "    plt.title(r'$J_{\\phi,pl}$ en función de $\\psi$', fontsize=16)\n",
    "    plt.legend()\n",
    "    plt.grid(True)\n",
    "    plt.show()\n",
    "\n",
    "# Controles deslizantes para alpha_m, alpha_n, beta_0, lambda_, R y R_geo\n",
    "alpha_slider = FloatSlider(min=0, max=10, step=1, value=2, description=r'$\\alpha_m$')\n",
    "alpha_n_slider = FloatSlider(min=0, max=10, step=1, value=2, description=r'$\\alpha_n$')\n",
    "beta_slider = FloatSlider(min=0, max=1, step=0.01, value=0.3, description=r'$\\beta_0$')\n",
    "lambda_slider = FloatSlider(min=0.1, max=1, step=0.01, value=0.5, description=r'$\\lambda$')\n",
    "R_slider = FloatSlider(min=0.1, max=50, step=0.1, value=10, description=r'$R$')\n",
    "R_geo_slider = FloatSlider(min=0.1, max=50, step=0.1, value=20, description=r'$R_{geo}$')\n",
    "k_slider = FloatSlider(min=1, max=10, step=1, value=1, description=r'$k$')\n",
    "\n",
    "# Usamos interact para crear la gráfica interactiva\n",
    "interact(plot_J_phi_pl, alpha_m=alpha_slider, alpha_n=alpha_n_slider, beta_0=beta_slider, lambda_=lambda_slider, R=R_slider, R_geo=R_geo_slider, k=k_slider)"
   ]
  },
  {
   "cell_type": "markdown",
   "id": "0bb57229-88d4-4b33-8171-dc12d38eef54",
   "metadata": {},
   "source": [
    "# 6.-Funciones independientes para $j_p$ y $j_f$ (podemos combinar exponencial con lineal)"
   ]
  },
  {
   "cell_type": "code",
   "execution_count": 6,
   "id": "82e6d9b6-aa27-4ba6-9beb-5b18c9a080bd",
   "metadata": {},
   "outputs": [
    {
     "data": {
      "application/vnd.jupyter.widget-view+json": {
       "model_id": "3a0c6cea15c142969e79828a0384bb8d",
       "version_major": 2,
       "version_minor": 0
      },
      "text/plain": [
       "interactive(children=(FloatSlider(value=2.0, description='$\\\\alpha_m$', max=10.0, step=1.0), FloatSlider(value…"
      ]
     },
     "metadata": {},
     "output_type": "display_data"
    },
    {
     "data": {
      "text/plain": [
       "<function __main__.plot_J_phi_pl(alpha_m, beta_m, beta_n, alpha_n, beta_0, lambda_, R, R_geo)>"
      ]
     },
     "execution_count": 6,
     "metadata": {},
     "output_type": "execute_result"
    }
   ],
   "source": [
    "import numpy as np\n",
    "import matplotlib.pyplot as plt\n",
    "from ipywidgets import interact, FloatSlider\n",
    "\n",
    "# Configuración de matplotlib para utilizar LaTeX\n",
    "plt.rcParams['text.usetex'] = True\n",
    "plt.rcParams['text.latex.preamble'] = r'\\usepackage{amsmath}'\n",
    "\n",
    "# Función para calcular j_P\n",
    "def j_P(psi, psi_a, psi_b, alpha_m):\n",
    "    psi_N = (psi - psi_a) / (psi_b - psi_a)\n",
    "    return ((1 - psi_N**alpha_m))\n",
    "\n",
    "# Función para calcular j_F\n",
    "def j_F(psi, psi_a, psi_b, beta_m):\n",
    "    psi_N = (psi - psi_a) / (psi_b - psi_a)\n",
    "    return ((1 - psi_N**beta_m))\n",
    "\n",
    "# Función para calcular J_phi,pl y graficar\n",
    "def plot_J_phi_pl(alpha_m, beta_m, beta_n, alpha_n, beta_0, lambda_, R, R_geo):\n",
    "    psi_a = 50\n",
    "    psi_b = 0\n",
    "    psi = np.linspace(0, 50, 100)\n",
    "    \n",
    "    # Cálculo de j_P y j_F\n",
    "    j_P_val = j_P(psi, psi_a, psi_b, alpha_m)\n",
    "    j_F_val = j_F(psi, psi_a, psi_b, beta_m)\n",
    "    \n",
    "    # Cálculo de J_phi,pl\n",
    "    J_phi_pl = lambda_ * (beta_0 * (R / R_geo) * j_P_val**alpha_n + (1 - beta_0) * (R_geo / R) * j_F_val**beta_n)\n",
    "    \n",
    "    # Gráfica\n",
    "    plt.figure(figsize=(10, 6))\n",
    "    plt.plot(psi, J_phi_pl, label=r'$J_{\\phi,pl}$', color='b', linewidth=2)\n",
    "    plt.xlabel(r'$\\psi(\\frac{T}{m^2})$', fontsize=14)\n",
    "    plt.ylabel(r'$J_{\\phi,pl} (\\frac{A}{m^2})$', fontsize=14)\n",
    "    plt.title(r'$J_{\\phi,pl}$ en función de $\\psi$', fontsize=16)\n",
    "    plt.legend()\n",
    "    plt.grid(True)\n",
    "    plt.show()\n",
    "\n",
    "# Controles deslizantes para alpha_m, b_m, b_n, alpha_n, beta_0, lambda_, R y R_geo\n",
    "alpha_slider = FloatSlider(min=0, max=10, step=1, value=2, description=r'$\\alpha_m$')\n",
    "beta_m_slider = FloatSlider(min=0, max=10, step=1, value=2, description=r'$\\beta_m$')\n",
    "beta_n_slider = FloatSlider(min=0, max=10, step=1, value=2, description=r'$\\beta_n$')\n",
    "alpha_n_slider = FloatSlider(min=0, max=10, step=1, value=2, description=r'$\\alpha_n$')\n",
    "beta_slider = FloatSlider(min=0, max=1, step=0.01, value=0.3, description=r'$\\beta_0$')\n",
    "lambda_slider = FloatSlider(min=0.1, max=1, step=0.01, value=0.5, description=r'$\\lambda$')\n",
    "R_slider = FloatSlider(min=0.1, max=50, step=0.1, value=10, description=r'$R$')\n",
    "R_geo_slider = FloatSlider(min=0.1, max=50, step=0.1, value=20, description=r'$R_{geo}$')\n",
    "\n",
    "# Usamos interact para crear la gráfica interactiva\n",
    "interact(plot_J_phi_pl, alpha_m=alpha_slider, beta_m=beta_m_slider, beta_n=beta_n_slider, alpha_n=alpha_n_slider, beta_0=beta_slider, lambda_=lambda_slider, R=R_slider, R_geo=R_geo_slider)\n"
   ]
  },
  {
   "cell_type": "markdown",
   "id": "31576ca9-259a-4f6a-aa38-018d9079e3b4",
   "metadata": {},
   "source": [
    "# 7.-Función de densidad de corriente, cuando $\\psi_b$ tambien es una variable "
   ]
  },
  {
   "cell_type": "code",
   "execution_count": 7,
   "id": "04243bdd-677f-4b69-8f03-67086d8ccddd",
   "metadata": {},
   "outputs": [
    {
     "data": {
      "application/vnd.jupyter.widget-view+json": {
       "model_id": "949bcbd5cb7a4be0a6b10a2c77882a85",
       "version_major": 2,
       "version_minor": 0
      },
      "text/plain": [
       "interactive(children=(FloatSlider(value=2.0, description='$\\\\alpha_m$', max=10.0, step=1.0), FloatSlider(value…"
      ]
     },
     "metadata": {},
     "output_type": "display_data"
    },
    {
     "data": {
      "text/plain": [
       "<function __main__.plot_J_phi_pl_3D(alpha_m, alpha_n, beta_0, lambda_, R, R_geo)>"
      ]
     },
     "execution_count": 7,
     "metadata": {},
     "output_type": "execute_result"
    }
   ],
   "source": [
    "import numpy as np\n",
    "import matplotlib.pyplot as plt\n",
    "from mpl_toolkits.mplot3d import Axes3D\n",
    "from ipywidgets import interact, FloatSlider\n",
    "\n",
    "# Configuración de matplotlib para utilizar LaTeX\n",
    "plt.rcParams['text.usetex'] = True\n",
    "plt.rcParams['text.latex.preamble'] = r'\\usepackage{amsmath}'\n",
    "\n",
    "# Función para calcular j_P y j_F\n",
    "def j_PF(psi, psi_a, psi_b, alpha_m):\n",
    "    psi_N = (psi - psi_a) / (psi_b - psi_a)\n",
    "    return (1 - psi_N**alpha_m)\n",
    "\n",
    "# Función para calcular J_phi,pl y graficar en 3D\n",
    "def plot_J_phi_pl_3D(alpha_m, alpha_n, beta_0, lambda_, R, R_geo):\n",
    "    psi_a = 50\n",
    "    psi = np.linspace(0, 50, 100)\n",
    "    psi_b = np.linspace(0, 30, 100)  \n",
    "    psi, psi_b = np.meshgrid(psi, psi_b)\n",
    "    j_PF_val = j_PF(psi, psi_a, psi_b, alpha_m)\n",
    "    \n",
    "    J_phi_pl = lambda_ * (beta_0 * (R / R_geo) * j_PF_val**alpha_n + (1 - beta_0) * (R_geo / R) * j_PF_val**alpha_n)\n",
    "    \n",
    "    # Gráfica 3Dy\n",
    "    fig = plt.figure(figsize=(8, 7))\n",
    "    ax = fig.add_subplot(111, projection='3d')\n",
    "    ax.plot_surface(psi, psi_b, J_phi_pl, cmap='viridis')\n",
    "    ax.set_xlabel(r'$\\psi(\\frac{T}{m^2})$', fontsize=14)\n",
    "    ax.set_ylabel(r'$\\psi_b(\\frac{T}{m^2})$', fontsize=14)\n",
    "    ax.set_zlabel(r'$J_{\\phi,pl} (\\frac{A}{m^2})$', fontsize=10)\n",
    "    ax.set_title(r'$J_{\\phi,pl}$ en función de $\\psi$ y $\\psi_b$', fontsize=16)\n",
    "    plt.show()\n",
    "\n",
    "# Controles deslizantes para alpha_m, alpha_n, beta_0, lambda_, R y R_geo\n",
    "alpha_slider = FloatSlider(min=0, max=10, step=1, value=2, description=r'$\\alpha_m$')\n",
    "alpha_n_slider = FloatSlider(min=0, max=10, step=1, value=2, description=r'$\\alpha_n$')\n",
    "beta_slider = FloatSlider(min=0, max=1, step=0.01, value=0.3, description=r'$\\beta_0$')\n",
    "lambda_slider = FloatSlider(min=0.1, max=1, step=0.01, value=0.5, description=r'$\\lambda$')\n",
    "R_slider = FloatSlider(min=0.1, max=50, step=0.1, value=10, description=r'$R$')\n",
    "R_geo_slider = FloatSlider(min=0.1, max=50, step=0.1, value=20, description=r'$R_{geo}$')\n",
    "\n",
    "# Usamos interact para crear la gráfica interactiva en 3D\n",
    "interact(plot_J_phi_pl_3D, alpha_m=alpha_slider, alpha_n=alpha_n_slider, beta_0=beta_slider, lambda_=lambda_slider, R=R_slider, R_geo=R_geo_slider)\n"
   ]
  },
  {
   "cell_type": "markdown",
   "id": "27636f62-eff2-49da-95d1-635a7e68a18e",
   "metadata": {},
   "source": [
    "# 8.-Densidad de corriente usando a $\\psi_b$ como una variable, pero haciendo al variación manualmente (visualización del caso anterior pero veremos cortes en 2-D)"
   ]
  },
  {
   "cell_type": "code",
   "execution_count": 8,
   "id": "7251d0e5-a8b7-420c-8a3d-edd317fec95a",
   "metadata": {},
   "outputs": [
    {
     "data": {
      "application/vnd.jupyter.widget-view+json": {
       "model_id": "f865f7e5174b4139ad219a7c35c541fd",
       "version_major": 2,
       "version_minor": 0
      },
      "text/plain": [
       "interactive(children=(FloatSlider(value=2.0, description='$\\\\alpha_m$', max=10.0, step=1.0), FloatSlider(value…"
      ]
     },
     "metadata": {},
     "output_type": "display_data"
    },
    {
     "data": {
      "text/plain": [
       "<function __main__.plot_J_phi_pl(alpha_m, alpha_n, beta_0, lambda_, R, R_geo, psi_b)>"
      ]
     },
     "execution_count": 8,
     "metadata": {},
     "output_type": "execute_result"
    }
   ],
   "source": [
    "import numpy as np\n",
    "import matplotlib.pyplot as plt\n",
    "from ipywidgets import interact, FloatSlider\n",
    "\n",
    "# Configuración de matplotlib para utilizar LaTeX\n",
    "plt.rcParams['text.usetex'] = True\n",
    "plt.rcParams['text.latex.preamble'] = r'\\usepackage{amsmath}'\n",
    "\n",
    "# Función para calcular j_P y j_F\n",
    "def j_PF(psi, psi_a, psi_b, alpha_m):\n",
    "    psi_N = (psi - psi_a) / (psi_b - psi_a)\n",
    "    return (1 - psi_N**alpha_m)\n",
    "\n",
    "# Función para calcular J_phi,pl y graficar\n",
    "def plot_J_phi_pl(alpha_m, alpha_n, beta_0, lambda_, R, R_geo, psi_b):\n",
    "    psi_a = 50\n",
    "    psi = np.linspace(0, 50, 100)\n",
    "    \n",
    "    # Cálculo de j_PF\n",
    "    j_PF_val = j_PF(psi, psi_a, psi_b, alpha_m)\n",
    "    \n",
    "    # Cálculo de J_phi,pl\n",
    "    J_phi_pl = lambda_ * (beta_0 * (R / R_geo) * j_PF_val**alpha_n + (1 - beta_0) * (R_geo / R) * j_PF_val**alpha_n)\n",
    "    \n",
    "    # Gráfica\n",
    "    plt.figure(figsize=(10, 6))\n",
    "    plt.plot(psi, J_phi_pl, label=r'$J_{\\phi,pl}$', color='b', linewidth=2)\n",
    "    plt.xlabel(r'$\\psi(\\frac{T}{m^2})$', fontsize=14)\n",
    "    plt.ylabel(r'$J_{\\phi,pl} (\\frac{A}{m^2})$', fontsize=14)\n",
    "    plt.title(r'$J_{\\phi,pl}$ en función de $\\psi$', fontsize=16)\n",
    "    plt.legend()\n",
    "    plt.grid(True)\n",
    "    plt.show()\n",
    "\n",
    "# Controles deslizantes para alpha_m, alpha_n, beta_0, lambda_, R, R_geo y psi_b\n",
    "alpha_slider = FloatSlider(min=0, max=10, step=1, value=2, description=r'$\\alpha_m$')\n",
    "alpha_n_slider = FloatSlider(min=0, max=10, step=1, value=2, description=r'$\\alpha_n$')\n",
    "beta_slider = FloatSlider(min=0, max=1, step=0.01, value=0.3, description=r'$\\beta_0$')\n",
    "lambda_slider = FloatSlider(min=0, max=1, step=0.01, value=0.5, description=r'$\\lambda$')\n",
    "R_slider = FloatSlider(min=0.1, max=50, step=0.1, value=10, description=r'$R$')\n",
    "R_geo_slider = FloatSlider(min=0.1, max=50, step=0.1, value=20, description=r'$R_{geo}$')\n",
    "psi_b_slider = FloatSlider(min=0, max=50, step=0.1, value=10, description=r'$\\psi_b$')\n",
    "\n",
    "# Usamos interact para crear la gráfica interactiva\n",
    "interact(plot_J_phi_pl, alpha_m=alpha_slider, alpha_n=alpha_n_slider, beta_0=beta_slider, lambda_=lambda_slider, R=R_slider, R_geo=R_geo_slider, psi_b=psi_b_slider)\n"
   ]
  },
  {
   "cell_type": "markdown",
   "id": "8b863eec-67c9-4453-80a0-bcc6601abe2d",
   "metadata": {},
   "source": [
    "# 9.-Densidad de corriente variando a $\\psi_a$ y $\\psi_b$ como parámetros"
   ]
  },
  {
   "cell_type": "code",
   "execution_count": 9,
   "id": "c9fde84d-d9f2-4f0d-81fd-dd7f168e84ac",
   "metadata": {},
   "outputs": [
    {
     "data": {
      "application/vnd.jupyter.widget-view+json": {
       "model_id": "5126ecfefe774addb921d779fa0947e0",
       "version_major": 2,
       "version_minor": 0
      },
      "text/plain": [
       "interactive(children=(FloatSlider(value=2.0, description='$\\\\alpha_m$', max=10.0, step=1.0), FloatSlider(value…"
      ]
     },
     "metadata": {},
     "output_type": "display_data"
    },
    {
     "data": {
      "text/plain": [
       "<function __main__.plot_J_phi_pl(alpha_m, alpha_n, beta_0, lambda_, R, R_geo, psi_a, psi_b)>"
      ]
     },
     "execution_count": 9,
     "metadata": {},
     "output_type": "execute_result"
    }
   ],
   "source": [
    "import numpy as np\n",
    "import matplotlib.pyplot as plt\n",
    "from ipywidgets import interact, FloatSlider\n",
    "\n",
    "# Configuración de matplotlib para utilizar LaTeX\n",
    "plt.rcParams['text.usetex'] = True\n",
    "plt.rcParams['text.latex.preamble'] = r'\\usepackage{amsmath}'\n",
    "\n",
    "# Función para calcular j_P y j_F\n",
    "def j_PF(psi, psi_a, psi_b, alpha_m):\n",
    "    psi_N = (psi - psi_a) / (psi_b - psi_a)\n",
    "    return (1 - psi_N**alpha_m)\n",
    "\n",
    "# Función para calcular J_phi,pl y graficar\n",
    "def plot_J_phi_pl(alpha_m, alpha_n, beta_0, lambda_, R, R_geo, psi_a, psi_b):\n",
    "    psi = np.linspace(0, 1, 100)\n",
    "    \n",
    "    # Cálculo de j_PF\n",
    "    j_PF_val = j_PF(psi, psi_a, psi_b, alpha_m)\n",
    "    \n",
    "    # Cálculo de J_phi,pl\n",
    "    J_phi_pl = lambda_ * (beta_0 * (R / R_geo) * j_PF_val**alpha_n + (1 - beta_0) * (R_geo / R) * j_PF_val**alpha_n)\n",
    "    \n",
    "    # Gráfica\n",
    "    plt.figure(figsize=(10, 6))\n",
    "    plt.plot(psi, J_phi_pl, label=r'$J_{\\phi,pl}$', color='b', linewidth=2)\n",
    "    plt.xlabel(r'$\\psi (\\frac{T}{m^2})$', fontsize=14)\n",
    "    plt.ylabel(r'$J_{\\phi,pl} (\\frac{A}{m^2})$', fontsize=14)\n",
    "    plt.title(r'$J_{\\phi,pl}$ en función de $\\psi$', fontsize=16)\n",
    "    plt.legend()\n",
    "    plt.grid(True)\n",
    "    plt.show()\n",
    "\n",
    "# Controles deslizantes para alpha_m, alpha_n, beta_0, lambda_, R, R_geo, psi_a y psi_b\n",
    "alpha_slider = FloatSlider(min=0, max=10, step=1, value=2, description=r'$\\alpha_m$')\n",
    "alpha_n_slider = FloatSlider(min=0, max=10, step=1, value=2, description=r'$\\alpha_n$')\n",
    "beta_slider = FloatSlider(min=0, max=1, step=0.01, value=0.3, description=r'$\\beta_0$')\n",
    "lambda_slider = FloatSlider(min=-6000000, max=6000000, step=0.01, value=0.5, description=r'$\\lambda$')\n",
    "R_slider = FloatSlider(min=0.1, max=50, step=0.01, value=10, description=r'$R$')\n",
    "R_geo_slider = FloatSlider(min=0.1, max=50, step=0.1, value=20, description=r'$R_{geo}$')\n",
    "psi_a_slider = FloatSlider(min=-1, max=50, step=0.01, value=0, description=r'$\\psi_a$')\n",
    "psi_b_slider = FloatSlider(min=-1, max=50, step=0.01, value=10, description=r'$\\psi_b$')\n",
    "\n",
    "# Usamos interact para crear la gráfica interactiva\n",
    "interact(plot_J_phi_pl, alpha_m=alpha_slider, alpha_n=alpha_n_slider, beta_0=beta_slider, lambda_=lambda_slider, R=R_slider, R_geo=R_geo_slider, psi_a=psi_a_slider, psi_b=psi_b_slider)\n"
   ]
  },
  {
   "cell_type": "markdown",
   "id": "96cfc5ed-bb22-4303-a496-9a718b22adc4",
   "metadata": {},
   "source": [
    "# 10.-Comportamiento de la densidad de corriente a lo largo de un eje radial del plasma"
   ]
  },
  {
   "cell_type": "code",
   "execution_count": 10,
   "id": "b8c7c130-479f-4644-a9d1-94856b032be6",
   "metadata": {},
   "outputs": [
    {
     "data": {
      "application/vnd.jupyter.widget-view+json": {
       "model_id": "3152dfadb54f450a87e2a566d75d8abf",
       "version_major": 2,
       "version_minor": 0
      },
      "text/plain": [
       "interactive(children=(FloatSlider(value=2.0, description='$\\\\alpha_m$', max=10.0, min=1.0, step=1.0), FloatSli…"
      ]
     },
     "metadata": {},
     "output_type": "display_data"
    },
    {
     "data": {
      "text/plain": [
       "<function __main__.plot_j_phi(alpha_m, alpha_n, beta_0, lambda_, a, R_geo)>"
      ]
     },
     "execution_count": 10,
     "metadata": {},
     "output_type": "execute_result"
    }
   ],
   "source": [
    "import numpy as np\n",
    "import matplotlib.pyplot as plt\n",
    "from ipywidgets import interact, FloatSlider\n",
    "\n",
    "# Función para calcular psi (flujo magnético) con perfil lineal\n",
    "def psi_lineal(r, a, psi_a, psi_b):\n",
    "    return psi_a - (psi_a - psi_b) * np.abs(r) / a\n",
    "\n",
    "# Función para calcular psi_N (flujo magnético normalizado)\n",
    "def calcular_psi_N(psi, psi_a, psi_b):\n",
    "    return (psi - psi_a) / (psi_b - psi_a)\n",
    "\n",
    "# Función para calcular J_phi (densidad de corriente)\n",
    "def calcular_j_phi(psi, psi_a, psi_b, alpha_m, alpha_n, beta_0, lambda_, R_geo, a):\n",
    "    psi_N = calcular_psi_N(psi, psi_a, psi_b)  # Flujo normalizado\n",
    "    return lambda_ * (1 - psi_N**alpha_m)**alpha_n * (beta_0*(a / R_geo) + (1 - beta_0)*(R_geo / a))\n",
    "\n",
    "# Función para graficar J_phi con parámetros ajustables\n",
    "def plot_j_phi(alpha_m, alpha_n, beta_0, lambda_, a, R_geo):\n",
    "    # Parámetros del plasma\n",
    "    psi_a = 100  # Flujo magnético en el eje magnético (máximo)\n",
    "    psi_b = 0    # Flujo magnético en el borde (mínimo)\n",
    "\n",
    "    # Crear el rango de r desde -a hasta +a\n",
    "    r = np.linspace(-a, a, 500)\n",
    "\n",
    "    # Calcular el flujo magnético psi(r)\n",
    "    psi = psi_lineal(r, a, psi_a, psi_b)\n",
    "\n",
    "    # Calcular la densidad de corriente J_phi\n",
    "    j_phi = calcular_j_phi(psi, psi_a, psi_b, alpha_m, alpha_n, beta_0, lambda_, R_geo, a)\n",
    "\n",
    "    # Graficar J_phi en función de r\n",
    "    plt.figure(figsize=(10, 6))\n",
    "    plt.plot(r, j_phi, label=r'$J_{\\phi,pl}$ vs $r$', color='b', linewidth=2)\n",
    "    plt.xlim(-3, 3)  # Ajustar rango dinámico según 'a'\n",
    "    plt.ylim(0, 0.7e7)  # Rango dinámico en función de los datos\n",
    "    plt.axhline(0, color='black', linewidth=0.5)\n",
    "    plt.axvline(0, color='black', linewidth=0.5)\n",
    "    plt.xlabel(r'Distancia radial $r (m)$ (de $-a$ a $+a$)', fontsize=14)\n",
    "    plt.ylabel(r'Densidad de corriente $J_{\\phi,pl} (\\frac{A}{m^2})$', fontsize=14)\n",
    "    plt.title(r'Perfil de $J_{\\phi,pl}$ con parámetros ajustables', fontsize=16)\n",
    "    plt.legend()\n",
    "    plt.grid(True)\n",
    "    plt.show()\n",
    "\n",
    "# Controles deslizantes para los parámetros ajustables\n",
    "alpha_m_slider = FloatSlider(min=1.0, max=10, step=1, value=2.0, description=r'$\\alpha_m$')\n",
    "alpha_n_slider = FloatSlider(min=1.0, max=10, step=1, value=2.0, description=r'$\\alpha_n$')\n",
    "beta_0_slider = FloatSlider(min=0.1, max=1.0, step=0.01, value=0.09, description=r'$\\beta_0$')\n",
    "lambda_slider = FloatSlider(min=-6000000, max=7000000, step=0.01, value=995303.17, description=r'$\\lambda$')\n",
    "a_slider = FloatSlider(min=-10, max=50, step=0.01, value=2, description=r'$a$')\n",
    "R_geo_slider = FloatSlider(min=0, max=50, step=0.01, value=1, description=r'$R_{geo}$')\n",
    "\n",
    "# Interactividad con ipywidgets\n",
    "interact(plot_j_phi, alpha_m=alpha_m_slider, alpha_n=alpha_n_slider, beta_0=beta_0_slider, \n",
    "         lambda_=lambda_slider, a=a_slider, R_geo=R_geo_slider)\n"
   ]
  },
  {
   "cell_type": "code",
   "execution_count": 11,
   "id": "213b33fe-7a7a-40e5-b821-d584d7046016",
   "metadata": {},
   "outputs": [
    {
     "ename": "IndentationError",
     "evalue": "unexpected indent (3477991845.py, line 2)",
     "output_type": "error",
     "traceback": [
      "\u001b[0;36m  Cell \u001b[0;32mIn[11], line 2\u001b[0;36m\u001b[0m\n\u001b[0;31m    plt.xlim(-10, 10)  # Rango para el eje x\u001b[0m\n\u001b[0m    ^\u001b[0m\n\u001b[0;31mIndentationError\u001b[0m\u001b[0;31m:\u001b[0m unexpected indent\n"
     ]
    }
   ],
   "source": [
    "# Definir los límites de los ejes para mantenerlos en el origen\n",
    "    plt.xlim(-10, 10)  # Rango para el eje x\n",
    "    plt.ylim(0, 1.1)  # Rango para el eje y\n",
    "    plt.axhline(0, color='black',linewidth=0.5)\n",
    "    plt.axvline(0, color='black',linewidth=0.5)\n",
    "    \n",
    "# Definir los límites de los ejes para mantenerlos en el origen\n",
    "    ax.set_xlim([0, 10])  # Rango para el eje x\n",
    "    ax.set_ylim([0, 10])  # Rango para el eje y\n",
    "    ax.set_zlim([-0.1, 1.1])  # Rango para el eje z\n",
    "    ax.axhline(0, color='black',linewidth=0.5)\n",
    "    ax.axvline(0, color='black',linewidth=0.5)"
   ]
  },
  {
   "cell_type": "code",
   "execution_count": null,
   "id": "4e1854fc-3469-464a-8130-ec4f3cca8836",
   "metadata": {},
   "outputs": [],
   "source": []
  }
 ],
 "metadata": {
  "kernelspec": {
   "display_name": "Python 3 (ipykernel)",
   "language": "python",
   "name": "python3"
  },
  "language_info": {
   "codemirror_mode": {
    "name": "ipython",
    "version": 3
   },
   "file_extension": ".py",
   "mimetype": "text/x-python",
   "name": "python",
   "nbconvert_exporter": "python",
   "pygments_lexer": "ipython3",
   "version": "3.13.2"
  }
 },
 "nbformat": 4,
 "nbformat_minor": 5
}
